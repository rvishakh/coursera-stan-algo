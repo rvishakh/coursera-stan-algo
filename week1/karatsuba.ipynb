{
 "cells": [
  {
   "cell_type": "code",
   "execution_count": null,
   "metadata": {
    "collapsed": true
   },
   "outputs": [],
   "source": [
    "import numpy as np"
   ]
  },
  {
   "cell_type": "code",
   "execution_count": null,
   "metadata": {
    "collapsed": true
   },
   "outputs": [],
   "source": [
    "def is_power2(num):\n",
    "    '''\n",
    "    Check if a number is a power of two\n",
    "    '''\n",
    "    return num != 0 and ((num & (num - 1)) == 0)"
   ]
  },
  {
   "cell_type": "code",
   "execution_count": 110,
   "metadata": {
    "collapsed": false
   },
   "outputs": [],
   "source": [
    "def recur_karatsuba(x, y):\n",
    "    '''\n",
    "    Implement the Karatsuba algorithm to multiply two positive integers of equal length\n",
    "    '''\n",
    "    if (x < 10 and y < 10):\n",
    "        return (x * y)\n",
    "    \n",
    "    else:\n",
    "        # Typecast integer to string\n",
    "        X_ = str(x)\n",
    "        Y_ = str(y)\n",
    "        \n",
    "        # Handle missing leading zeroes\n",
    "        if (len(X_) != len(Y_)):\n",
    "            if (len(X_) < len(Y_)):\n",
    "                X_ = '0' * (len(Y_) - len(X_)) + X_\n",
    "            else:\n",
    "                Y_ = '0' * (len(X_) - len(Y_)) + Y_\n",
    "        \n",
    "        # Ensure that length is even\n",
    "        if (len(X_)%2 != 0):\n",
    "            X_ = '0' + X_\n",
    "            Y_ = '0' + Y_\n",
    "        \n",
    "        # Split the strings down the middle\n",
    "        A_, B_ = X_[:len(X_)/2], X_[len(X_)/2:]\n",
    "        C_, D_ = Y_[:len(Y_)/2], Y_[len(Y_)/2:]\n",
    "        \n",
    "        # Store the length of the integer\n",
    "        m = len(X_)\n",
    "        \n",
    "        # Typecast back to integer        \n",
    "        a = int(A_)\n",
    "        b = int(B_)\n",
    "        c = int(C_)\n",
    "        d = int(D_)\n",
    "        \n",
    "        # Calculate ac, bd, (a+b)(c+d)\n",
    "        term1 = recur_karatsuba(a, c)\n",
    "        term2 = recur_karatsuba(b, d)\n",
    "        term3 = recur_karatsuba(a+b, c+d)\n",
    "        term4 = term3 - term2 - term1\n",
    "        \n",
    "        # Calculate final result\n",
    "        result = int(str(term1) + '0' * m) + term2 + int(str(term4) + '0' * (m/2))\n",
    "        #print x, y, result\n",
    "        \n",
    "        # Gauss' trick\n",
    "        return (result)"
   ]
  },
  {
   "cell_type": "code",
   "execution_count": 111,
   "metadata": {
    "collapsed": false
   },
   "outputs": [
    {
     "name": "stdout",
     "output_type": "stream",
     "text": [
      "3141592653589793238462643383279502884197169399375105820974944592 *\n",
      "2718281828459045235360287471352662497757247093699959574966967627 =\n",
      "8539734222673567065463550869546574495034888535765114961879601127067743044893204848617875072216249073013374895871952806582723184\n"
     ]
    }
   ],
   "source": [
    "# Read two integers\n",
    "x = 3141592653589793238462643383279502884197169399375105820974944592\n",
    "y = 2718281828459045235360287471352662497757247093699959574966967627\n",
    "\n",
    "#x=1234\n",
    "#y=9999\n",
    "\n",
    "# Check to make sure they are positive and have the same length\n",
    "if (x < 0 or y < 0):\n",
    "    print '@E: Multiplication of negative numbers is not supported'\n",
    "    \n",
    "else: \n",
    "    \n",
    "    if (len(str(x)) != len(str(y))):\n",
    "        print '@E: Both numbers must be of equal length'\n",
    "    \n",
    "    else:\n",
    "        if (is_power2(len(str(x)))): \n",
    "            product = recur_karatsuba (x,y)\n",
    "            \n",
    "        else:\n",
    "            print '@E: Number length must be a power of 2'\n",
    "        \n",
    "print '{} *\\n{} =\\n{}' .format(x, y, product)"
   ]
  }
 ],
 "metadata": {
  "kernelspec": {
   "display_name": "Python [Root]",
   "language": "python",
   "name": "Python [Root]"
  },
  "language_info": {
   "codemirror_mode": {
    "name": "ipython",
    "version": 2
   },
   "file_extension": ".py",
   "mimetype": "text/x-python",
   "name": "python",
   "nbconvert_exporter": "python",
   "pygments_lexer": "ipython2",
   "version": "2.7.12"
  }
 },
 "nbformat": 4,
 "nbformat_minor": 0
}
